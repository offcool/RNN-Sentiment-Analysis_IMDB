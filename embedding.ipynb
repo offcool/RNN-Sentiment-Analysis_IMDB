{
 "cells": [
  {
   "cell_type": "code",
   "execution_count": 74,
   "metadata": {},
   "outputs": [],
   "source": [
    "from tensorflow.keras.preprocessing.text import one_hot"
   ]
  },
  {
   "cell_type": "code",
   "execution_count": 75,
   "metadata": {},
   "outputs": [],
   "source": [
    "sent=[  'the glass of milk',\n",
    "     'the glass of juice',\n",
    "     'the cup of tea',\n",
    "    'I am a good boy',\n",
    "     'I am a good developer',\n",
    "     'understand the meaning of words',\n",
    "     'your videos are good',]"
   ]
  },
  {
   "cell_type": "code",
   "execution_count": 76,
   "metadata": {},
   "outputs": [
    {
     "data": {
      "text/plain": [
       "['the glass of milk',\n",
       " 'the glass of juice',\n",
       " 'the cup of tea',\n",
       " 'I am a good boy',\n",
       " 'I am a good developer',\n",
       " 'understand the meaning of words',\n",
       " 'your videos are good']"
      ]
     },
     "execution_count": 76,
     "metadata": {},
     "output_type": "execute_result"
    }
   ],
   "source": [
    "\n",
    "sent"
   ]
  },
  {
   "cell_type": "code",
   "execution_count": 77,
   "metadata": {},
   "outputs": [],
   "source": [
    "#define vocab size\n",
    "voc_size = 10000"
   ]
  },
  {
   "cell_type": "code",
   "execution_count": 78,
   "metadata": {},
   "outputs": [
    {
     "data": {
      "text/plain": [
       "[[948, 8095, 6215, 609],\n",
       " [948, 8095, 6215, 7252],\n",
       " [948, 7002, 6215, 9589],\n",
       " [7283, 6692, 4448, 2519, 8283],\n",
       " [7283, 6692, 4448, 2519, 1538],\n",
       " [7697, 948, 2527, 6215, 4569],\n",
       " [5236, 8556, 5426, 2519]]"
      ]
     },
     "execution_count": 78,
     "metadata": {},
     "output_type": "execute_result"
    }
   ],
   "source": [
    "one_hot_repr= [one_hot(words,voc_size) for words in sent]\n",
    "one_hot_repr"
   ]
  },
  {
   "cell_type": "markdown",
   "metadata": {},
   "source": [
    "### scale and normalize the array"
   ]
  },
  {
   "cell_type": "code",
   "execution_count": 79,
   "metadata": {},
   "outputs": [
    {
     "name": "stdout",
     "output_type": "stream",
     "text": [
      "Largest number in the array: 9589\n",
      "[0.099, 0.844, 0.648, 0.064]\n",
      "[0.099, 0.844, 0.648, 0.756]\n",
      "[0.099, 0.73, 0.648, 1.0]\n",
      "[0.76, 0.698, 0.464, 0.263, 0.864]\n",
      "[0.76, 0.698, 0.464, 0.263, 0.16]\n",
      "[0.803, 0.099, 0.264, 0.648, 0.476]\n",
      "[0.546, 0.892, 0.566, 0.263]\n"
     ]
    }
   ],
   "source": [
    "\n",
    "max_value = max(max(sub_array) for sub_array in one_hot_repr)\n",
    "scaled_array = [[round(element / max_value, 3) for element in sub_array] for sub_array in one_hot_repr]\n",
    "\n",
    "print(\"Largest number in the array:\", max_value)\n",
    "\n",
    "for row in scaled_array:\n",
    "    print(row)\n",
    "\n"
   ]
  },
  {
   "cell_type": "code",
   "execution_count": null,
   "metadata": {},
   "outputs": [],
   "source": []
  },
  {
   "cell_type": "code",
   "execution_count": 95,
   "metadata": {},
   "outputs": [],
   "source": [
    "## word embedding representation\n",
    "import tensorflow\n",
    "from tensorflow.keras.layers import Embedding\n",
    "#from tensorflow.keras.preprocessing.sequence import pad_sequences\n",
    "from tensorflow.keras.models import Sequential\n",
    "from tensorflow.keras.utils import pad_sequences"
   ]
  },
  {
   "cell_type": "code",
   "execution_count": 81,
   "metadata": {},
   "outputs": [],
   "source": [
    "import numpy as np "
   ]
  },
  {
   "cell_type": "code",
   "execution_count": 88,
   "metadata": {},
   "outputs": [
    {
     "data": {
      "text/plain": [
       "array([[ 948, 8095, 6215,  609,    0,    0,    0,    0],\n",
       "       [ 948, 8095, 6215, 7252,    0,    0,    0,    0],\n",
       "       [ 948, 7002, 6215, 9589,    0,    0,    0,    0],\n",
       "       [7283, 6692, 4448, 2519, 8283,    0,    0,    0],\n",
       "       [7283, 6692, 4448, 2519, 1538,    0,    0,    0],\n",
       "       [7697,  948, 2527, 6215, 4569,    0,    0,    0],\n",
       "       [5236, 8556, 5426, 2519,    0,    0,    0,    0]])"
      ]
     },
     "execution_count": 88,
     "metadata": {},
     "output_type": "execute_result"
    }
   ],
   "source": [
    "sent_length = 8\n",
    "embedded_docs = pad_sequences(one_hot_repr,padding='post',maxlen=sent_length)\n",
    "embedded_docs"
   ]
  },
  {
   "cell_type": "code",
   "execution_count": 92,
   "metadata": {},
   "outputs": [],
   "source": [
    "dim=10\n",
    "model=Sequential()\n",
    "model.add(Embedding(voc_size,dim))\n",
    "model.compile(optimizer='adam',loss='mse')"
   ]
  },
  {
   "cell_type": "code",
   "execution_count": 94,
   "metadata": {},
   "outputs": [
    {
     "data": {
      "text/html": [
       "<pre style=\"white-space:pre;overflow-x:auto;line-height:normal;font-family:Menlo,'DejaVu Sans Mono',consolas,'Courier New',monospace\"><span style=\"font-weight: bold\">Model: \"sequential_7\"</span>\n",
       "</pre>\n"
      ],
      "text/plain": [
       "\u001b[1mModel: \"sequential_7\"\u001b[0m\n"
      ]
     },
     "metadata": {},
     "output_type": "display_data"
    },
    {
     "data": {
      "text/html": [
       "<pre style=\"white-space:pre;overflow-x:auto;line-height:normal;font-family:Menlo,'DejaVu Sans Mono',consolas,'Courier New',monospace\">┏━━━━━━━━━━━━━━━━━━━━━━━━━━━━━━━━━┳━━━━━━━━━━━━━━━━━━━━━━━━┳━━━━━━━━━━━━━━━┓\n",
       "┃<span style=\"font-weight: bold\"> Layer (type)                    </span>┃<span style=\"font-weight: bold\"> Output Shape           </span>┃<span style=\"font-weight: bold\">       Param # </span>┃\n",
       "┡━━━━━━━━━━━━━━━━━━━━━━━━━━━━━━━━━╇━━━━━━━━━━━━━━━━━━━━━━━━╇━━━━━━━━━━━━━━━┩\n",
       "│ embedding_7 (<span style=\"color: #0087ff; text-decoration-color: #0087ff\">Embedding</span>)         │ ?                      │   <span style=\"color: #00af00; text-decoration-color: #00af00\">0</span> (unbuilt) │\n",
       "└─────────────────────────────────┴────────────────────────┴───────────────┘\n",
       "</pre>\n"
      ],
      "text/plain": [
       "┏━━━━━━━━━━━━━━━━━━━━━━━━━━━━━━━━━┳━━━━━━━━━━━━━━━━━━━━━━━━┳━━━━━━━━━━━━━━━┓\n",
       "┃\u001b[1m \u001b[0m\u001b[1mLayer (type)                   \u001b[0m\u001b[1m \u001b[0m┃\u001b[1m \u001b[0m\u001b[1mOutput Shape          \u001b[0m\u001b[1m \u001b[0m┃\u001b[1m \u001b[0m\u001b[1m      Param #\u001b[0m\u001b[1m \u001b[0m┃\n",
       "┡━━━━━━━━━━━━━━━━━━━━━━━━━━━━━━━━━╇━━━━━━━━━━━━━━━━━━━━━━━━╇━━━━━━━━━━━━━━━┩\n",
       "│ embedding_7 (\u001b[38;5;33mEmbedding\u001b[0m)         │ ?                      │   \u001b[38;5;34m0\u001b[0m (unbuilt) │\n",
       "└─────────────────────────────────┴────────────────────────┴───────────────┘\n"
      ]
     },
     "metadata": {},
     "output_type": "display_data"
    },
    {
     "data": {
      "text/html": [
       "<pre style=\"white-space:pre;overflow-x:auto;line-height:normal;font-family:Menlo,'DejaVu Sans Mono',consolas,'Courier New',monospace\"><span style=\"font-weight: bold\"> Total params: </span><span style=\"color: #00af00; text-decoration-color: #00af00\">0</span> (0.00 B)\n",
       "</pre>\n"
      ],
      "text/plain": [
       "\u001b[1m Total params: \u001b[0m\u001b[38;5;34m0\u001b[0m (0.00 B)\n"
      ]
     },
     "metadata": {},
     "output_type": "display_data"
    },
    {
     "data": {
      "text/html": [
       "<pre style=\"white-space:pre;overflow-x:auto;line-height:normal;font-family:Menlo,'DejaVu Sans Mono',consolas,'Courier New',monospace\"><span style=\"font-weight: bold\"> Trainable params: </span><span style=\"color: #00af00; text-decoration-color: #00af00\">0</span> (0.00 B)\n",
       "</pre>\n"
      ],
      "text/plain": [
       "\u001b[1m Trainable params: \u001b[0m\u001b[38;5;34m0\u001b[0m (0.00 B)\n"
      ]
     },
     "metadata": {},
     "output_type": "display_data"
    },
    {
     "data": {
      "text/html": [
       "<pre style=\"white-space:pre;overflow-x:auto;line-height:normal;font-family:Menlo,'DejaVu Sans Mono',consolas,'Courier New',monospace\"><span style=\"font-weight: bold\"> Non-trainable params: </span><span style=\"color: #00af00; text-decoration-color: #00af00\">0</span> (0.00 B)\n",
       "</pre>\n"
      ],
      "text/plain": [
       "\u001b[1m Non-trainable params: \u001b[0m\u001b[38;5;34m0\u001b[0m (0.00 B)\n"
      ]
     },
     "metadata": {},
     "output_type": "display_data"
    }
   ],
   "source": [
    "model.summary()"
   ]
  },
  {
   "cell_type": "code",
   "execution_count": 85,
   "metadata": {},
   "outputs": [
    {
     "name": "stdout",
     "output_type": "stream",
     "text": [
      "\u001b[1m1/1\u001b[0m \u001b[32m━━━━━━━━━━━━━━━━━━━━\u001b[0m\u001b[37m\u001b[0m \u001b[1m0s\u001b[0m 129ms/step\n"
     ]
    },
    {
     "data": {
      "text/plain": [
       "array([[[-0.01212097,  0.03893511, -0.03505677, -0.02859261,\n",
       "          0.04113424, -0.04164313,  0.03710182, -0.02294725,\n",
       "          0.00981795, -0.02517819],\n",
       "        [-0.01212097,  0.03893511, -0.03505677, -0.02859261,\n",
       "          0.04113424, -0.04164313,  0.03710182, -0.02294725,\n",
       "          0.00981795, -0.02517819],\n",
       "        [-0.01212097,  0.03893511, -0.03505677, -0.02859261,\n",
       "          0.04113424, -0.04164313,  0.03710182, -0.02294725,\n",
       "          0.00981795, -0.02517819],\n",
       "        [-0.01212097,  0.03893511, -0.03505677, -0.02859261,\n",
       "          0.04113424, -0.04164313,  0.03710182, -0.02294725,\n",
       "          0.00981795, -0.02517819],\n",
       "        [-0.020332  , -0.04894588, -0.03297511, -0.00068703,\n",
       "         -0.02912153,  0.00509931,  0.02475006, -0.01694978,\n",
       "          0.00046831, -0.00154852],\n",
       "        [-0.02675949,  0.0316251 , -0.04298922, -0.03091935,\n",
       "          0.00364643, -0.00855187, -0.02316886,  0.04024483,\n",
       "         -0.0197005 ,  0.03780414],\n",
       "        [ 0.0294132 , -0.02530179,  0.04589787,  0.03257891,\n",
       "          0.03929465,  0.02736664,  0.01753386, -0.01656185,\n",
       "         -0.03640276,  0.01563264],\n",
       "        [ 0.04884824,  0.02607274, -0.03324436, -0.01083757,\n",
       "         -0.01324994,  0.01809367, -0.02094207,  0.04899744,\n",
       "         -0.02347436,  0.02078051]],\n",
       "\n",
       "       [[-0.01212097,  0.03893511, -0.03505677, -0.02859261,\n",
       "          0.04113424, -0.04164313,  0.03710182, -0.02294725,\n",
       "          0.00981795, -0.02517819],\n",
       "        [-0.01212097,  0.03893511, -0.03505677, -0.02859261,\n",
       "          0.04113424, -0.04164313,  0.03710182, -0.02294725,\n",
       "          0.00981795, -0.02517819],\n",
       "        [-0.01212097,  0.03893511, -0.03505677, -0.02859261,\n",
       "          0.04113424, -0.04164313,  0.03710182, -0.02294725,\n",
       "          0.00981795, -0.02517819],\n",
       "        [-0.01212097,  0.03893511, -0.03505677, -0.02859261,\n",
       "          0.04113424, -0.04164313,  0.03710182, -0.02294725,\n",
       "          0.00981795, -0.02517819],\n",
       "        [-0.020332  , -0.04894588, -0.03297511, -0.00068703,\n",
       "         -0.02912153,  0.00509931,  0.02475006, -0.01694978,\n",
       "          0.00046831, -0.00154852],\n",
       "        [-0.02675949,  0.0316251 , -0.04298922, -0.03091935,\n",
       "          0.00364643, -0.00855187, -0.02316886,  0.04024483,\n",
       "         -0.0197005 ,  0.03780414],\n",
       "        [ 0.0294132 , -0.02530179,  0.04589787,  0.03257891,\n",
       "          0.03929465,  0.02736664,  0.01753386, -0.01656185,\n",
       "         -0.03640276,  0.01563264],\n",
       "        [-0.04372314, -0.04560821, -0.03413929,  0.04708785,\n",
       "          0.03227632,  0.01546622,  0.04034385, -0.04032806,\n",
       "          0.01732495,  0.02776119]],\n",
       "\n",
       "       [[-0.01212097,  0.03893511, -0.03505677, -0.02859261,\n",
       "          0.04113424, -0.04164313,  0.03710182, -0.02294725,\n",
       "          0.00981795, -0.02517819],\n",
       "        [-0.01212097,  0.03893511, -0.03505677, -0.02859261,\n",
       "          0.04113424, -0.04164313,  0.03710182, -0.02294725,\n",
       "          0.00981795, -0.02517819],\n",
       "        [-0.01212097,  0.03893511, -0.03505677, -0.02859261,\n",
       "          0.04113424, -0.04164313,  0.03710182, -0.02294725,\n",
       "          0.00981795, -0.02517819],\n",
       "        [-0.01212097,  0.03893511, -0.03505677, -0.02859261,\n",
       "          0.04113424, -0.04164313,  0.03710182, -0.02294725,\n",
       "          0.00981795, -0.02517819],\n",
       "        [-0.020332  , -0.04894588, -0.03297511, -0.00068703,\n",
       "         -0.02912153,  0.00509931,  0.02475006, -0.01694978,\n",
       "          0.00046831, -0.00154852],\n",
       "        [ 0.02823757,  0.03493226, -0.00127698, -0.00486889,\n",
       "         -0.00356083, -0.00709939, -0.02943829, -0.03866009,\n",
       "         -0.04197174,  0.00615246],\n",
       "        [ 0.0294132 , -0.02530179,  0.04589787,  0.03257891,\n",
       "          0.03929465,  0.02736664,  0.01753386, -0.01656185,\n",
       "         -0.03640276,  0.01563264],\n",
       "        [ 0.01781741,  0.02075224, -0.02653374,  0.0044667 ,\n",
       "          0.00453173,  0.02834803, -0.02552755,  0.02179562,\n",
       "         -0.0447959 ,  0.02125647]],\n",
       "\n",
       "       [[-0.01212097,  0.03893511, -0.03505677, -0.02859261,\n",
       "          0.04113424, -0.04164313,  0.03710182, -0.02294725,\n",
       "          0.00981795, -0.02517819],\n",
       "        [-0.01212097,  0.03893511, -0.03505677, -0.02859261,\n",
       "          0.04113424, -0.04164313,  0.03710182, -0.02294725,\n",
       "          0.00981795, -0.02517819],\n",
       "        [-0.01212097,  0.03893511, -0.03505677, -0.02859261,\n",
       "          0.04113424, -0.04164313,  0.03710182, -0.02294725,\n",
       "          0.00981795, -0.02517819],\n",
       "        [-0.00722494,  0.04057738, -0.02282952,  0.02530655,\n",
       "         -0.00280337, -0.04172313, -0.00012839, -0.03154691,\n",
       "          0.03756763,  0.04154908],\n",
       "        [ 0.01776199, -0.01457347,  0.04444766,  0.03468886,\n",
       "          0.03330911, -0.00264009,  0.0276917 ,  0.0413059 ,\n",
       "         -0.04548087,  0.04476226],\n",
       "        [ 0.00320707,  0.04737654,  0.02874519, -0.02506435,\n",
       "         -0.01378633, -0.04268729,  0.00695876, -0.01351155,\n",
       "          0.00044308, -0.04678756],\n",
       "        [-0.03421351, -0.03837753, -0.00701491, -0.01007562,\n",
       "         -0.0380442 ,  0.03149476,  0.01400454, -0.00696659,\n",
       "         -0.01454156, -0.04115986],\n",
       "        [ 0.0095564 ,  0.02512478, -0.00314336,  0.00087159,\n",
       "         -0.02228787, -0.03894828, -0.02672477, -0.00872296,\n",
       "         -0.02015538, -0.03024187]],\n",
       "\n",
       "       [[-0.01212097,  0.03893511, -0.03505677, -0.02859261,\n",
       "          0.04113424, -0.04164313,  0.03710182, -0.02294725,\n",
       "          0.00981795, -0.02517819],\n",
       "        [-0.01212097,  0.03893511, -0.03505677, -0.02859261,\n",
       "          0.04113424, -0.04164313,  0.03710182, -0.02294725,\n",
       "          0.00981795, -0.02517819],\n",
       "        [-0.01212097,  0.03893511, -0.03505677, -0.02859261,\n",
       "          0.04113424, -0.04164313,  0.03710182, -0.02294725,\n",
       "          0.00981795, -0.02517819],\n",
       "        [-0.00722494,  0.04057738, -0.02282952,  0.02530655,\n",
       "         -0.00280337, -0.04172313, -0.00012839, -0.03154691,\n",
       "          0.03756763,  0.04154908],\n",
       "        [ 0.01776199, -0.01457347,  0.04444766,  0.03468886,\n",
       "          0.03330911, -0.00264009,  0.0276917 ,  0.0413059 ,\n",
       "         -0.04548087,  0.04476226],\n",
       "        [ 0.00320707,  0.04737654,  0.02874519, -0.02506435,\n",
       "         -0.01378633, -0.04268729,  0.00695876, -0.01351155,\n",
       "          0.00044308, -0.04678756],\n",
       "        [-0.03421351, -0.03837753, -0.00701491, -0.01007562,\n",
       "         -0.0380442 ,  0.03149476,  0.01400454, -0.00696659,\n",
       "         -0.01454156, -0.04115986],\n",
       "        [-0.02425864, -0.02196751,  0.03206928, -0.03408443,\n",
       "          0.03023015,  0.03822421, -0.04228079,  0.00515821,\n",
       "         -0.02679144,  0.02098211]],\n",
       "\n",
       "       [[-0.01212097,  0.03893511, -0.03505677, -0.02859261,\n",
       "          0.04113424, -0.04164313,  0.03710182, -0.02294725,\n",
       "          0.00981795, -0.02517819],\n",
       "        [-0.01212097,  0.03893511, -0.03505677, -0.02859261,\n",
       "          0.04113424, -0.04164313,  0.03710182, -0.02294725,\n",
       "          0.00981795, -0.02517819],\n",
       "        [-0.01212097,  0.03893511, -0.03505677, -0.02859261,\n",
       "          0.04113424, -0.04164313,  0.03710182, -0.02294725,\n",
       "          0.00981795, -0.02517819],\n",
       "        [-0.01993903,  0.02607563, -0.01902288,  0.02232039,\n",
       "          0.04977471, -0.00599636, -0.02495372, -0.00911848,\n",
       "         -0.04915911,  0.01924281],\n",
       "        [-0.020332  , -0.04894588, -0.03297511, -0.00068703,\n",
       "         -0.02912153,  0.00509931,  0.02475006, -0.01694978,\n",
       "          0.00046831, -0.00154852],\n",
       "        [ 0.03698785,  0.03503884, -0.00425762, -0.03315033,\n",
       "         -0.0348901 ,  0.04169438,  0.03031671,  0.03594952,\n",
       "          0.00385443,  0.04525366],\n",
       "        [ 0.0294132 , -0.02530179,  0.04589787,  0.03257891,\n",
       "          0.03929465,  0.02736664,  0.01753386, -0.01656185,\n",
       "         -0.03640276,  0.01563264],\n",
       "        [ 0.0401186 , -0.03006898, -0.02334211,  0.03284783,\n",
       "          0.00676797,  0.00653443,  0.02165439,  0.02684646,\n",
       "          0.0104972 , -0.04120559]],\n",
       "\n",
       "       [[-0.01212097,  0.03893511, -0.03505677, -0.02859261,\n",
       "          0.04113424, -0.04164313,  0.03710182, -0.02294725,\n",
       "          0.00981795, -0.02517819],\n",
       "        [-0.01212097,  0.03893511, -0.03505677, -0.02859261,\n",
       "          0.04113424, -0.04164313,  0.03710182, -0.02294725,\n",
       "          0.00981795, -0.02517819],\n",
       "        [-0.01212097,  0.03893511, -0.03505677, -0.02859261,\n",
       "          0.04113424, -0.04164313,  0.03710182, -0.02294725,\n",
       "          0.00981795, -0.02517819],\n",
       "        [-0.01212097,  0.03893511, -0.03505677, -0.02859261,\n",
       "          0.04113424, -0.04164313,  0.03710182, -0.02294725,\n",
       "          0.00981795, -0.02517819],\n",
       "        [-0.04225704, -0.00137054,  0.02473405, -0.00654569,\n",
       "         -0.026166  ,  0.02612412,  0.03418001,  0.02038399,\n",
       "         -0.00609121,  0.03096375],\n",
       "        [ 0.0251064 , -0.02264371, -0.01348116, -0.04086953,\n",
       "          0.02561659,  0.02043816,  0.04368161, -0.03526688,\n",
       "          0.02109835, -0.0244102 ],\n",
       "        [-0.02106729, -0.01813769, -0.03490663, -0.02464515,\n",
       "          0.02300705, -0.03883436, -0.00883339,  0.02490052,\n",
       "         -0.03933703, -0.04773598],\n",
       "        [-0.03421351, -0.03837753, -0.00701491, -0.01007562,\n",
       "         -0.0380442 ,  0.03149476,  0.01400454, -0.00696659,\n",
       "         -0.01454156, -0.04115986]]], dtype=float32)"
      ]
     },
     "execution_count": 85,
     "metadata": {},
     "output_type": "execute_result"
    }
   ],
   "source": [
    "model.predict(embedded_docs)"
   ]
  },
  {
   "cell_type": "code",
   "execution_count": 86,
   "metadata": {},
   "outputs": [
    {
     "data": {
      "text/plain": [
       "array([   0,    0,    0,    0,  948, 8095, 6215,  609])"
      ]
     },
     "execution_count": 86,
     "metadata": {},
     "output_type": "execute_result"
    }
   ],
   "source": [
    "embedded_docs[0]"
   ]
  },
  {
   "cell_type": "code",
   "execution_count": 87,
   "metadata": {},
   "outputs": [
    {
     "ename": "ValueError",
     "evalue": "Exception encountered when calling Sequential.call().\n\n\u001b[1mCannot take the length of shape with unknown rank.\u001b[0m\n\nArguments received by Sequential.call():\n  • inputs=tf.Tensor(shape=<unknown>, dtype=int32)\n  • training=False\n  • mask=None",
     "output_type": "error",
     "traceback": [
      "\u001b[1;31m---------------------------------------------------------------------------\u001b[0m",
      "\u001b[1;31mValueError\u001b[0m                                Traceback (most recent call last)",
      "Cell \u001b[1;32mIn[87], line 1\u001b[0m\n\u001b[1;32m----> 1\u001b[0m \u001b[43mmodel\u001b[49m\u001b[38;5;241;43m.\u001b[39;49m\u001b[43mpredict\u001b[49m\u001b[43m(\u001b[49m\u001b[43membedded_docs\u001b[49m\u001b[43m[\u001b[49m\u001b[38;5;241;43m0\u001b[39;49m\u001b[43m]\u001b[49m\u001b[43m)\u001b[49m\n",
      "File \u001b[1;32m~\\AppData\\Roaming\\Python\\Python312\\site-packages\\keras\\src\\utils\\traceback_utils.py:122\u001b[0m, in \u001b[0;36mfilter_traceback.<locals>.error_handler\u001b[1;34m(*args, **kwargs)\u001b[0m\n\u001b[0;32m    119\u001b[0m     filtered_tb \u001b[38;5;241m=\u001b[39m _process_traceback_frames(e\u001b[38;5;241m.\u001b[39m__traceback__)\n\u001b[0;32m    120\u001b[0m     \u001b[38;5;66;03m# To get the full stack trace, call:\u001b[39;00m\n\u001b[0;32m    121\u001b[0m     \u001b[38;5;66;03m# `keras.config.disable_traceback_filtering()`\u001b[39;00m\n\u001b[1;32m--> 122\u001b[0m     \u001b[38;5;28;01mraise\u001b[39;00m e\u001b[38;5;241m.\u001b[39mwith_traceback(filtered_tb) \u001b[38;5;28;01mfrom\u001b[39;00m \u001b[38;5;28;01mNone\u001b[39;00m\n\u001b[0;32m    123\u001b[0m \u001b[38;5;28;01mfinally\u001b[39;00m:\n\u001b[0;32m    124\u001b[0m     \u001b[38;5;28;01mdel\u001b[39;00m filtered_tb\n",
      "File \u001b[1;32m~\\AppData\\Roaming\\Python\\Python312\\site-packages\\keras\\src\\utils\\traceback_utils.py:122\u001b[0m, in \u001b[0;36mfilter_traceback.<locals>.error_handler\u001b[1;34m(*args, **kwargs)\u001b[0m\n\u001b[0;32m    119\u001b[0m     filtered_tb \u001b[38;5;241m=\u001b[39m _process_traceback_frames(e\u001b[38;5;241m.\u001b[39m__traceback__)\n\u001b[0;32m    120\u001b[0m     \u001b[38;5;66;03m# To get the full stack trace, call:\u001b[39;00m\n\u001b[0;32m    121\u001b[0m     \u001b[38;5;66;03m# `keras.config.disable_traceback_filtering()`\u001b[39;00m\n\u001b[1;32m--> 122\u001b[0m     \u001b[38;5;28;01mraise\u001b[39;00m e\u001b[38;5;241m.\u001b[39mwith_traceback(filtered_tb) \u001b[38;5;28;01mfrom\u001b[39;00m \u001b[38;5;28;01mNone\u001b[39;00m\n\u001b[0;32m    123\u001b[0m \u001b[38;5;28;01mfinally\u001b[39;00m:\n\u001b[0;32m    124\u001b[0m     \u001b[38;5;28;01mdel\u001b[39;00m filtered_tb\n",
      "\u001b[1;31mValueError\u001b[0m: Exception encountered when calling Sequential.call().\n\n\u001b[1mCannot take the length of shape with unknown rank.\u001b[0m\n\nArguments received by Sequential.call():\n  • inputs=tf.Tensor(shape=<unknown>, dtype=int32)\n  • training=False\n  • mask=None"
     ]
    }
   ],
   "source": [
    "model.predict(embedded_docs[0])"
   ]
  },
  {
   "cell_type": "code",
   "execution_count": null,
   "metadata": {},
   "outputs": [],
   "source": []
  },
  {
   "cell_type": "code",
   "execution_count": null,
   "metadata": {},
   "outputs": [],
   "source": []
  },
  {
   "cell_type": "code",
   "execution_count": null,
   "metadata": {},
   "outputs": [],
   "source": []
  },
  {
   "cell_type": "code",
   "execution_count": null,
   "metadata": {},
   "outputs": [],
   "source": []
  }
 ],
 "metadata": {
  "kernelspec": {
   "display_name": "Python 3",
   "language": "python",
   "name": "python3"
  },
  "language_info": {
   "codemirror_mode": {
    "name": "ipython",
    "version": 3
   },
   "file_extension": ".py",
   "mimetype": "text/x-python",
   "name": "python",
   "nbconvert_exporter": "python",
   "pygments_lexer": "ipython3",
   "version": "3.12.0"
  }
 },
 "nbformat": 4,
 "nbformat_minor": 2
}
