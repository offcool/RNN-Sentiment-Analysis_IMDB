{
 "cells": [
  {
   "cell_type": "code",
   "execution_count": 1,
   "metadata": {},
   "outputs": [],
   "source": [
    "import numpy as np\n",
    "import tensorflow as tf\n",
    "from tensorflow.keras.datasets import imdb\n",
    "from tensorflow.keras.preprocessing import sequence\n",
    "from tensorflow.keras.models import  load_model\n",
    "#from tensorflow.keras.layers import Embedding,SimpleRNN,Dense"
   ]
  },
  {
   "cell_type": "code",
   "execution_count": 2,
   "metadata": {},
   "outputs": [],
   "source": [
    "word_index = imdb.get_word_index()\n",
    "reverse_word_index = {value : key for key,value in word_index.items()}"
   ]
  },
  {
   "cell_type": "code",
   "execution_count": 3,
   "metadata": {},
   "outputs": [
    {
     "name": "stderr",
     "output_type": "stream",
     "text": [
      "WARNING:absl:Compiled the loaded model, but the compiled metrics have yet to be built. `model.compile_metrics` will be empty until you train or evaluate the model.\n"
     ]
    },
    {
     "data": {
      "text/html": [
       "<pre style=\"white-space:pre;overflow-x:auto;line-height:normal;font-family:Menlo,'DejaVu Sans Mono',consolas,'Courier New',monospace\"><span style=\"font-weight: bold\">Model: \"sequential_22\"</span>\n",
       "</pre>\n"
      ],
      "text/plain": [
       "\u001b[1mModel: \"sequential_22\"\u001b[0m\n"
      ]
     },
     "metadata": {},
     "output_type": "display_data"
    },
    {
     "data": {
      "text/html": [
       "<pre style=\"white-space:pre;overflow-x:auto;line-height:normal;font-family:Menlo,'DejaVu Sans Mono',consolas,'Courier New',monospace\">┏━━━━━━━━━━━━━━━━━━━━━━━━━━━━━━━━━┳━━━━━━━━━━━━━━━━━━━━━━━━┳━━━━━━━━━━━━━━━┓\n",
       "┃<span style=\"font-weight: bold\"> Layer (type)                    </span>┃<span style=\"font-weight: bold\"> Output Shape           </span>┃<span style=\"font-weight: bold\">       Param # </span>┃\n",
       "┡━━━━━━━━━━━━━━━━━━━━━━━━━━━━━━━━━╇━━━━━━━━━━━━━━━━━━━━━━━━╇━━━━━━━━━━━━━━━┩\n",
       "│ embedding_16 (<span style=\"color: #0087ff; text-decoration-color: #0087ff\">Embedding</span>)        │ (<span style=\"color: #00af00; text-decoration-color: #00af00\">32</span>, <span style=\"color: #00af00; text-decoration-color: #00af00\">500</span>, <span style=\"color: #00af00; text-decoration-color: #00af00\">128</span>)         │     <span style=\"color: #00af00; text-decoration-color: #00af00\">1,280,000</span> │\n",
       "├─────────────────────────────────┼────────────────────────┼───────────────┤\n",
       "│ simple_rnn_15 (<span style=\"color: #0087ff; text-decoration-color: #0087ff\">SimpleRNN</span>)       │ (<span style=\"color: #00af00; text-decoration-color: #00af00\">32</span>, <span style=\"color: #00af00; text-decoration-color: #00af00\">128</span>)              │        <span style=\"color: #00af00; text-decoration-color: #00af00\">32,896</span> │\n",
       "├─────────────────────────────────┼────────────────────────┼───────────────┤\n",
       "│ dense_17 (<span style=\"color: #0087ff; text-decoration-color: #0087ff\">Dense</span>)                │ (<span style=\"color: #00af00; text-decoration-color: #00af00\">32</span>, <span style=\"color: #00af00; text-decoration-color: #00af00\">1</span>)                │           <span style=\"color: #00af00; text-decoration-color: #00af00\">129</span> │\n",
       "└─────────────────────────────────┴────────────────────────┴───────────────┘\n",
       "</pre>\n"
      ],
      "text/plain": [
       "┏━━━━━━━━━━━━━━━━━━━━━━━━━━━━━━━━━┳━━━━━━━━━━━━━━━━━━━━━━━━┳━━━━━━━━━━━━━━━┓\n",
       "┃\u001b[1m \u001b[0m\u001b[1mLayer (type)                   \u001b[0m\u001b[1m \u001b[0m┃\u001b[1m \u001b[0m\u001b[1mOutput Shape          \u001b[0m\u001b[1m \u001b[0m┃\u001b[1m \u001b[0m\u001b[1m      Param #\u001b[0m\u001b[1m \u001b[0m┃\n",
       "┡━━━━━━━━━━━━━━━━━━━━━━━━━━━━━━━━━╇━━━━━━━━━━━━━━━━━━━━━━━━╇━━━━━━━━━━━━━━━┩\n",
       "│ embedding_16 (\u001b[38;5;33mEmbedding\u001b[0m)        │ (\u001b[38;5;34m32\u001b[0m, \u001b[38;5;34m500\u001b[0m, \u001b[38;5;34m128\u001b[0m)         │     \u001b[38;5;34m1,280,000\u001b[0m │\n",
       "├─────────────────────────────────┼────────────────────────┼───────────────┤\n",
       "│ simple_rnn_15 (\u001b[38;5;33mSimpleRNN\u001b[0m)       │ (\u001b[38;5;34m32\u001b[0m, \u001b[38;5;34m128\u001b[0m)              │        \u001b[38;5;34m32,896\u001b[0m │\n",
       "├─────────────────────────────────┼────────────────────────┼───────────────┤\n",
       "│ dense_17 (\u001b[38;5;33mDense\u001b[0m)                │ (\u001b[38;5;34m32\u001b[0m, \u001b[38;5;34m1\u001b[0m)                │           \u001b[38;5;34m129\u001b[0m │\n",
       "└─────────────────────────────────┴────────────────────────┴───────────────┘\n"
      ]
     },
     "metadata": {},
     "output_type": "display_data"
    },
    {
     "data": {
      "text/html": [
       "<pre style=\"white-space:pre;overflow-x:auto;line-height:normal;font-family:Menlo,'DejaVu Sans Mono',consolas,'Courier New',monospace\"><span style=\"font-weight: bold\"> Total params: </span><span style=\"color: #00af00; text-decoration-color: #00af00\">1,313,027</span> (5.01 MB)\n",
       "</pre>\n"
      ],
      "text/plain": [
       "\u001b[1m Total params: \u001b[0m\u001b[38;5;34m1,313,027\u001b[0m (5.01 MB)\n"
      ]
     },
     "metadata": {},
     "output_type": "display_data"
    },
    {
     "data": {
      "text/html": [
       "<pre style=\"white-space:pre;overflow-x:auto;line-height:normal;font-family:Menlo,'DejaVu Sans Mono',consolas,'Courier New',monospace\"><span style=\"font-weight: bold\"> Trainable params: </span><span style=\"color: #00af00; text-decoration-color: #00af00\">1,313,025</span> (5.01 MB)\n",
       "</pre>\n"
      ],
      "text/plain": [
       "\u001b[1m Trainable params: \u001b[0m\u001b[38;5;34m1,313,025\u001b[0m (5.01 MB)\n"
      ]
     },
     "metadata": {},
     "output_type": "display_data"
    },
    {
     "data": {
      "text/html": [
       "<pre style=\"white-space:pre;overflow-x:auto;line-height:normal;font-family:Menlo,'DejaVu Sans Mono',consolas,'Courier New',monospace\"><span style=\"font-weight: bold\"> Non-trainable params: </span><span style=\"color: #00af00; text-decoration-color: #00af00\">0</span> (0.00 B)\n",
       "</pre>\n"
      ],
      "text/plain": [
       "\u001b[1m Non-trainable params: \u001b[0m\u001b[38;5;34m0\u001b[0m (0.00 B)\n"
      ]
     },
     "metadata": {},
     "output_type": "display_data"
    },
    {
     "data": {
      "text/html": [
       "<pre style=\"white-space:pre;overflow-x:auto;line-height:normal;font-family:Menlo,'DejaVu Sans Mono',consolas,'Courier New',monospace\"><span style=\"font-weight: bold\"> Optimizer params: </span><span style=\"color: #00af00; text-decoration-color: #00af00\">2</span> (12.00 B)\n",
       "</pre>\n"
      ],
      "text/plain": [
       "\u001b[1m Optimizer params: \u001b[0m\u001b[38;5;34m2\u001b[0m (12.00 B)\n"
      ]
     },
     "metadata": {},
     "output_type": "display_data"
    }
   ],
   "source": [
    "model=load_model('simple_rnn_imdb.h5')\n",
    "model.summary()"
   ]
  },
  {
   "cell_type": "code",
   "execution_count": 4,
   "metadata": {},
   "outputs": [
    {
     "data": {
      "text/plain": [
       "[array([[-0.55587286, -1.6231109 , -1.3976396 , ...,  0.48148763,\n",
       "          1.497778  , -0.79268557],\n",
       "        [-0.01594917, -0.00541594, -0.07113581, ...,  0.07744234,\n",
       "          0.06315593, -0.04262654],\n",
       "        [-0.05486401, -0.11806211, -0.0149542 , ...,  0.02202188,\n",
       "          0.05688727, -0.18019313],\n",
       "        ...,\n",
       "        [-0.10777315, -0.0597997 ,  0.01115487, ...,  0.03907769,\n",
       "          0.0608916 , -0.04972343],\n",
       "        [-0.01528435, -0.01659455,  0.10269926, ..., -0.02162453,\n",
       "          0.01339484, -0.07022373],\n",
       "        [-0.00655247, -0.07690129, -0.04443263, ..., -0.08226127,\n",
       "         -0.07103653, -0.05201855]], dtype=float32),\n",
       " array([[-0.02205688, -0.06867647, -0.10277369, ...,  0.03833036,\n",
       "         -0.1288776 ,  0.08130347],\n",
       "        [-0.12091471, -0.08353043,  0.18015249, ...,  0.15443856,\n",
       "          0.13347651, -0.12277368],\n",
       "        [-0.0692473 , -0.12047802, -0.03302357, ..., -0.01423317,\n",
       "          0.1239518 ,  0.01869112],\n",
       "        ...,\n",
       "        [-0.09861685, -0.11228667, -0.12444762, ...,  0.13188463,\n",
       "          0.14048886, -0.0829395 ],\n",
       "        [ 0.01206848,  0.03231924, -0.12959148, ...,  0.1296741 ,\n",
       "         -0.01155326, -0.08938062],\n",
       "        [ 0.04631911, -0.02286407, -0.13372849, ..., -0.01982845,\n",
       "          0.05847271,  0.06437674]], dtype=float32),\n",
       " array([[-0.03682099, -0.11102186, -0.06336159, ..., -0.0232744 ,\n",
       "         -0.0989861 , -0.02251981],\n",
       "        [-0.03156566,  0.15876366,  0.03885484, ..., -0.03150744,\n",
       "          0.12109095, -0.03642811],\n",
       "        [-0.09817348,  0.00276987, -0.01999527, ..., -0.08373283,\n",
       "         -0.00432236, -0.03546983],\n",
       "        ...,\n",
       "        [-0.19225782,  0.04580386, -0.11230633, ..., -0.11614334,\n",
       "          0.03258783, -0.07550697],\n",
       "        [-0.05669715, -0.08047195,  0.0665977 , ..., -0.02947788,\n",
       "         -0.1308675 ,  0.19374497],\n",
       "        [-0.06996103,  0.11389126,  0.11084442, ...,  0.05500602,\n",
       "         -0.08068374, -0.19657932]], dtype=float32),\n",
       " array([-0.03807689, -0.0062514 , -0.04128776,  0.05577025, -0.00325577,\n",
       "         0.01258456, -0.09777889,  0.01003338, -0.01153929, -0.02892908,\n",
       "         0.00646909,  0.01647195, -0.03592564, -0.02592374, -0.0336084 ,\n",
       "        -0.01296522, -0.04102486, -0.03915999, -0.03306425,  0.05291679,\n",
       "        -0.01422576, -0.03433079,  0.01215342, -0.00373795, -0.04844051,\n",
       "        -0.05808714, -0.00481024,  0.00158948,  0.0365663 , -0.01982795,\n",
       "        -0.05057095,  0.01878948, -0.032224  , -0.06729058, -0.03286324,\n",
       "        -0.02515032,  0.01855088,  0.00897176, -0.01549784, -0.01685343,\n",
       "        -0.01477837, -0.02806005, -0.04158625,  0.00888322, -0.01015362,\n",
       "        -0.01315573, -0.04718945, -0.03706215, -0.00187576, -0.00787149,\n",
       "        -0.06018809,  0.03802104, -0.02259938, -0.0343958 , -0.03345389,\n",
       "        -0.01326402,  0.023948  , -0.05560584,  0.03526526, -0.03117136,\n",
       "        -0.02122018, -0.0360618 ,  0.02263242, -0.02865386, -0.02912857,\n",
       "        -0.05958023, -0.00639357, -0.00319414, -0.02687845, -0.02714381,\n",
       "        -0.02015879, -0.03154482,  0.06635194,  0.03008925, -0.06412555,\n",
       "         0.01328863, -0.00840956, -0.0268774 , -0.00540819, -0.02911088,\n",
       "         0.08830888, -0.02147697,  0.05005435,  0.01154398, -0.03688353,\n",
       "         0.0202491 , -0.02108556, -0.01958091, -0.03328651, -0.053142  ,\n",
       "        -0.00454003, -0.01969812, -0.01757618, -0.04612081, -0.02730615,\n",
       "        -0.02054902, -0.0128238 , -0.01749898, -0.03042688,  0.01097989,\n",
       "        -0.02934268, -0.00189184,  0.0048088 , -0.01013294,  0.0143427 ,\n",
       "         0.00195833, -0.03403254, -0.0454555 ,  0.05140029, -0.01146609,\n",
       "        -0.06039756, -0.01610961,  0.01506213, -0.04704605,  0.01591524,\n",
       "         0.0557593 , -0.04133474,  0.04025551, -0.00976242, -0.07052837,\n",
       "        -0.04081247,  0.03291703, -0.00533656, -0.02465842,  0.0364113 ,\n",
       "        -0.00665077, -0.03165678, -0.0053185 ], dtype=float32),\n",
       " array([[-0.08356228],\n",
       "        [ 0.14651261],\n",
       "        [ 0.10001166],\n",
       "        [ 0.24266699],\n",
       "        [ 0.08164404],\n",
       "        [-0.14849275],\n",
       "        [ 0.20796841],\n",
       "        [-0.9653207 ],\n",
       "        [ 0.22395125],\n",
       "        [ 0.17318738],\n",
       "        [-0.07453215],\n",
       "        [ 0.04028863],\n",
       "        [ 0.1937027 ],\n",
       "        [-0.2824331 ],\n",
       "        [ 0.20754083],\n",
       "        [ 0.09823927],\n",
       "        [ 0.03580726],\n",
       "        [-0.00937658],\n",
       "        [ 0.22111563],\n",
       "        [ 0.30853757],\n",
       "        [ 0.10997548],\n",
       "        [ 0.15555166],\n",
       "        [-0.06155318],\n",
       "        [-0.1083614 ],\n",
       "        [ 0.10702877],\n",
       "        [-0.09025095],\n",
       "        [ 0.09341954],\n",
       "        [ 0.03722261],\n",
       "        [-0.16845758],\n",
       "        [-0.07674182],\n",
       "        [-0.13512152],\n",
       "        [ 0.12882063],\n",
       "        [ 0.19570501],\n",
       "        [-0.07460357],\n",
       "        [-0.13401453],\n",
       "        [-0.07991905],\n",
       "        [-0.18182851],\n",
       "        [-0.19363157],\n",
       "        [-0.15966931],\n",
       "        [ 0.06275795],\n",
       "        [ 0.5415865 ],\n",
       "        [ 0.11190733],\n",
       "        [-0.03126845],\n",
       "        [ 0.17233635],\n",
       "        [-0.03098467],\n",
       "        [ 0.11046307],\n",
       "        [ 0.05284451],\n",
       "        [ 0.18697622],\n",
       "        [ 0.34898645],\n",
       "        [-0.14723608],\n",
       "        [-0.00413468],\n",
       "        [ 0.0214972 ],\n",
       "        [ 0.1856554 ],\n",
       "        [ 0.20047776],\n",
       "        [-0.0515327 ],\n",
       "        [-0.02261215],\n",
       "        [ 0.14514434],\n",
       "        [-0.15944503],\n",
       "        [ 0.19216327],\n",
       "        [-0.34731403],\n",
       "        [-0.09796636],\n",
       "        [ 0.04057764],\n",
       "        [ 0.16050264],\n",
       "        [ 0.19988084],\n",
       "        [ 0.30395144],\n",
       "        [ 0.02263217],\n",
       "        [-0.0141769 ],\n",
       "        [-0.18794881],\n",
       "        [ 0.15583593],\n",
       "        [ 0.30088276],\n",
       "        [-0.02612392],\n",
       "        [ 0.21350485],\n",
       "        [ 0.11808431],\n",
       "        [ 0.02285443],\n",
       "        [ 0.1179609 ],\n",
       "        [-0.06773493],\n",
       "        [-0.12794271],\n",
       "        [-0.15850757],\n",
       "        [ 0.29413524],\n",
       "        [-0.01817177],\n",
       "        [ 0.6057387 ],\n",
       "        [ 0.14328887],\n",
       "        [ 0.08146645],\n",
       "        [ 0.01388045],\n",
       "        [ 0.1010708 ],\n",
       "        [ 0.10519943],\n",
       "        [ 0.16429488],\n",
       "        [ 0.15581906],\n",
       "        [-0.17766334],\n",
       "        [ 0.12876126],\n",
       "        [-0.03433273],\n",
       "        [ 0.04940127],\n",
       "        [ 0.18548377],\n",
       "        [ 0.05979316],\n",
       "        [-0.18613552],\n",
       "        [-0.12198343],\n",
       "        [-0.02203032],\n",
       "        [ 0.30097732],\n",
       "        [ 0.1510383 ],\n",
       "        [-0.05684981],\n",
       "        [-0.24433193],\n",
       "        [ 0.16518743],\n",
       "        [-0.17866668],\n",
       "        [ 0.2444561 ],\n",
       "        [-0.67930573],\n",
       "        [ 0.12080689],\n",
       "        [-0.17020202],\n",
       "        [-0.0921227 ],\n",
       "        [ 0.2483728 ],\n",
       "        [-0.16339736],\n",
       "        [ 0.13342504],\n",
       "        [-0.08601276],\n",
       "        [ 0.02008534],\n",
       "        [ 0.07705839],\n",
       "        [-0.00180299],\n",
       "        [ 0.03060297],\n",
       "        [ 0.22048476],\n",
       "        [ 0.02031974],\n",
       "        [-0.10686719],\n",
       "        [-0.07927322],\n",
       "        [-0.06999584],\n",
       "        [-0.02125972],\n",
       "        [-0.13224307],\n",
       "        [-0.05659264],\n",
       "        [-0.13565376],\n",
       "        [ 0.06348981],\n",
       "        [ 0.11533019],\n",
       "        [ 0.13924624]], dtype=float32),\n",
       " array([0.80103296], dtype=float32)]"
      ]
     },
     "execution_count": 4,
     "metadata": {},
     "output_type": "execute_result"
    }
   ],
   "source": [
    "model.get_weights()"
   ]
  },
  {
   "cell_type": "code",
   "execution_count": 5,
   "metadata": {},
   "outputs": [],
   "source": [
    "def decode_review(encoded_review):\n",
    "    return ' '.join([reverse_word_index.get(i - 3, '?') for i in encoded_review])\n",
    "\n",
    "# Function to preprocess user input\n",
    "def preprocess_text(text):\n",
    "    words = text.lower().split()\n",
    "    encoded_review = [word_index.get(word, 2) + 3 for word in words]\n",
    "    padded_review = sequence.pad_sequences([encoded_review], maxlen=500)\n",
    "    return padded_review"
   ]
  },
  {
   "cell_type": "code",
   "execution_count": 6,
   "metadata": {},
   "outputs": [],
   "source": [
    "def predict_sentiment(review):\n",
    "    preprocessed_input=preprocess_text(review)\n",
    "\n",
    "    prediction=model.predict(preprocessed_input)\n",
    "\n",
    "    sentiment = 'Positive' if prediction[0][0] > 0.5 else 'Negative'\n",
    "    \n",
    "    return sentiment, prediction[0][0]"
   ]
  },
  {
   "cell_type": "code",
   "execution_count": 7,
   "metadata": {},
   "outputs": [
    {
     "name": "stdout",
     "output_type": "stream",
     "text": [
      "\u001b[1m1/1\u001b[0m \u001b[32m━━━━━━━━━━━━━━━━━━━━\u001b[0m\u001b[37m\u001b[0m \u001b[1m0s\u001b[0m 206ms/step\n",
      "Review: This movie was fantastic! The acting was great and the plot was thrilling.\n",
      "Sentiment: Negative\n",
      "Prediction Score: 0.355993390083313\n"
     ]
    }
   ],
   "source": [
    "example_review = \"This movie was fantastic! The acting was great and the plot was thrilling.\"\n",
    "\n",
    "sentiment,score=predict_sentiment(example_review)\n",
    "\n",
    "print(f'Review: {example_review}')\n",
    "print(f'Sentiment: {sentiment}')\n",
    "print(f'Prediction Score: {score}')"
   ]
  }
 ],
 "metadata": {
  "kernelspec": {
   "display_name": "Python 3",
   "language": "python",
   "name": "python3"
  },
  "language_info": {
   "codemirror_mode": {
    "name": "ipython",
    "version": 3
   },
   "file_extension": ".py",
   "mimetype": "text/x-python",
   "name": "python",
   "nbconvert_exporter": "python",
   "pygments_lexer": "ipython3",
   "version": "3.12.0"
  }
 },
 "nbformat": 4,
 "nbformat_minor": 2
}
